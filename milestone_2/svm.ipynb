{
 "cells": [
  {
   "cell_type": "code",
   "execution_count": 1,
   "metadata": {},
   "outputs": [],
   "source": [
    "import pandas as pd\n",
    "import numpy as np\n",
    "import json\n",
    "import warnings\n",
    "warnings.filterwarnings('ignore')\n",
    "import base64\n",
    "import io\n",
    "from functools import reduce"
   ]
  },
  {
   "cell_type": "code",
   "execution_count": 2,
   "metadata": {},
   "outputs": [],
   "source": [
    "# read in the csv files\n",
    "movies = pd.read_csv('../dataset/tmdb_5000_movies.csv')\n",
    "credits = pd.read_csv('../dataset/tmdb_5000_credits.csv')\n",
    "\n",
    "# Clean the dataset by converting json columns into list of strings\n",
    "fields = ['genres', 'keywords', 'production_companies', 'production_countries']\n",
    "for field in fields:\n",
    "    movies[field]=movies[field].apply(json.loads)\n",
    "    for index,i in zip(movies.index,movies[field]):\n",
    "        list1=[]\n",
    "        for j in range(len(i)):\n",
    "            list1.append((i[j]['name']))\n",
    "        movies.loc[index,field]=str(list1)\n",
    "        \n",
    "        \n",
    "# Clean the credits \n",
    "credits['cast']=credits['cast'].apply(json.loads)\n",
    "for index,i in zip(credits.index,credits['cast']):\n",
    "    list1=[]\n",
    "    for j in range(len(i)):\n",
    "        list1.append((i[j]['name']))\n",
    "    credits.loc[index,'cast']=str(list1)\n",
    "\n",
    "fields = ['crew']\n",
    "for field in fields:\n",
    "    credits[field] = credits[field].apply(json.loads)\n",
    "    def director(x):\n",
    "        for i in x:\n",
    "            if i['job'] == 'Director':\n",
    "                return i['name']\n",
    "    credits['crew'] = credits['crew'].apply(director)\n",
    "    credits.rename(columns={'crew':'director'},inplace=True)"
   ]
  },
  {
   "cell_type": "code",
   "execution_count": 3,
   "metadata": {},
   "outputs": [],
   "source": [
    "# Need to combine two datasets. Can join on movie_id\n",
    "df = pd.merge(movies, credits, how='left', left_on='id', right_on='movie_id')"
   ]
  },
  {
   "cell_type": "code",
   "execution_count": 4,
   "metadata": {},
   "outputs": [],
   "source": [
    "# Feature engineering! select which ones we want here...\n",
    "features = ['id', 'original_title', 'genres', 'cast', 'vote_average', 'director', 'keywords', 'popularity', 'vote_count']\n",
    "df = df[features]"
   ]
  },
  {
   "cell_type": "code",
   "execution_count": 5,
   "metadata": {},
   "outputs": [],
   "source": [
    "# Format genres\n",
    "df['genres'] = df['genres'].str.strip('[]').str.replace(' ','').str.replace(\"'\",'').str.replace('Adventure', 'Adv').str.replace('u', '').str.replace('Adv', 'Adventure')\n",
    "df['genres'] = df['genres'].str.split(',')"
   ]
  },
  {
   "cell_type": "code",
   "execution_count": 6,
   "metadata": {},
   "outputs": [],
   "source": [
    "# Create an ordered list of all possible genres so we can use a bit string to represent them\n",
    "genreList = []\n",
    "for genres in df['genres']:\n",
    "    for genre in genres:\n",
    "        if genre not in genreList:\n",
    "            genreList.append(genre)\n",
    "            \n",
    "genreList.sort()\n",
    "genreList = genreList[1:]"
   ]
  },
  {
   "cell_type": "code",
   "execution_count": 7,
   "metadata": {},
   "outputs": [],
   "source": [
    "# Create the bitstring of genres\n",
    "def genre_bitlist(genres):\n",
    "    blist = []\n",
    "    for genre in genreList:\n",
    "        if genre in genres:\n",
    "            blist.append(1)\n",
    "        else:\n",
    "            blist.append(0)\n",
    "    return blist\n",
    "\n",
    "            \n",
    "df['genres_bs'] = df['genres'].apply(lambda x: genre_bitlist(x))"
   ]
  },
  {
   "cell_type": "code",
   "execution_count": 8,
   "metadata": {},
   "outputs": [],
   "source": [
    "# Format the cast\n",
    "df['cast']=df['cast'].str.strip('[]').str.replace(' ','').str.replace(\"'\",'').str.replace('\"','')\n",
    "df['cast']=df['cast'].str.split(',')"
   ]
  },
  {
   "cell_type": "code",
   "execution_count": 9,
   "metadata": {},
   "outputs": [],
   "source": [
    "# Create a list of actors\n",
    "import operator \n",
    "actorList = []\n",
    "list1 = []\n",
    "for i in df['cast']:\n",
    "    list1.extend(i)\n",
    "    \n",
    "actors = {}\n",
    "for actor in list1:\n",
    "    if actor in actors:\n",
    "        actors[actor] += 1\n",
    "    else:\n",
    "        actors[actor] = 1\n",
    "        \n",
    "sorted_actors = sorted(actors.items(), key=operator.itemgetter(1))\n",
    "\n",
    "for i in range(0, 21):\n",
    "    actorList.append(sorted_actors[-1-i])\n",
    "    \n",
    "\n",
    "actorList = [actor[0] for actor in actorList]\n",
    "alist = []\n",
    "for actor in actorList:\n",
    "    if actor != 'r.': # Get rid of this trailing value\n",
    "        alist.append(actor)\n",
    "actorList = alist\n",
    "\n",
    "# Now we need to sort the list!\n",
    "actorList = sorted(actorList)\n",
    "actorList = actorList[1:]"
   ]
  },
  {
   "cell_type": "code",
   "execution_count": 10,
   "metadata": {},
   "outputs": [],
   "source": [
    "# Create the bitstring of actors\n",
    "def actor_bitlist(actors):\n",
    "    blist = []\n",
    "    for actor in actorList:\n",
    "        if actor in actors:\n",
    "            blist.append(1)\n",
    "        else:\n",
    "            blist.append(0)\n",
    "    return blist\n",
    "\n",
    "df['cast_bs'] = df['cast'].apply(lambda x: actor_bitlist(x))"
   ]
  },
  {
   "cell_type": "code",
   "execution_count": 11,
   "metadata": {},
   "outputs": [],
   "source": [
    "# Now directors\n",
    "def isnull(s):\n",
    "    if s is None:\n",
    "        return ''\n",
    "    return s\n",
    "\n",
    "df['director'] = df['director'].apply(isnull)"
   ]
  },
  {
   "cell_type": "code",
   "execution_count": 12,
   "metadata": {},
   "outputs": [],
   "source": [
    "# Create a list of directors\n",
    "directorList = []\n",
    "for director in df['director']:\n",
    "    if director not in directorList:\n",
    "        directorList.append(director)\n",
    "        \n",
    "directorList = sorted(directorList)[1:]"
   ]
  },
  {
   "cell_type": "code",
   "execution_count": 13,
   "metadata": {},
   "outputs": [],
   "source": [
    "# Create the bitstring of directors\n",
    "def director_bitlist(directors):\n",
    "    blist = []\n",
    "    for director in directorList:\n",
    "        if director in directors:\n",
    "            blist.append(1)\n",
    "        else:\n",
    "            blist.append(0)\n",
    "    return blist\n",
    "\n",
    "df['director_bs'] = df['director'].apply(lambda x: director_bitlist(x))"
   ]
  },
  {
   "cell_type": "code",
   "execution_count": 14,
   "metadata": {},
   "outputs": [],
   "source": [
    "# Allows us to make each genre a category in the dataframe\n",
    "from collections import defaultdict\n",
    "cols = defaultdict(list)\n",
    "for g in genreList:\n",
    "    for index, row in df.iterrows():\n",
    "        genres = row[\"genres\"]\n",
    "        if g in genres:\n",
    "            cols[g].append(1)\n",
    "        else:\n",
    "            cols[g].append(0)\n",
    "        \n",
    "    df[g] = cols[g]"
   ]
  },
  {
   "cell_type": "code",
   "execution_count": 15,
   "metadata": {},
   "outputs": [],
   "source": [
    "# Allows us to make each actor a category in the dataframe\n",
    "from collections import defaultdict\n",
    "cols = defaultdict(list)\n",
    "for a in actorList:\n",
    "    for index, row in df.iterrows():\n",
    "        cast = row[\"cast\"]\n",
    "        if a in cast:\n",
    "            cols[a].append(1)\n",
    "        else:\n",
    "            cols[a].append(0)\n",
    "        \n",
    "    df[a] = cols[a]"
   ]
  },
  {
   "cell_type": "code",
   "execution_count": 16,
   "metadata": {},
   "outputs": [
    {
     "name": "stdout",
     "output_type": "stream",
     "text": [
      "[-0.70786442 -0.79052552 -0.69091627 -0.63643388 -0.77737546 -0.74275045\n",
      " -0.77060977 -0.94561107 -1.40524879 -2.02482038]\n",
      "[-0.65110671 -0.30720769 -0.30630871 -0.63725584 -0.61990657 -0.62268557\n",
      " -0.61404467 -0.59637585 -0.54146893 -0.50084175]\n",
      "Mean test score:  0.9492155997748168\n",
      "Mean train score:  0.5397202301040172\n"
     ]
    }
   ],
   "source": [
    "svm_features = ['popularity',  'vote_count', 'Action', 'Adventure', 'Animation', 'Comedy', 'Docmentary', 'Drama', 'Family', 'Fantasy', 'Foreign', 'History', 'Horror', 'Mystery', 'Romance', 'ScienceFiction', 'Thriller', 'War', 'Western', 'AlecBaldwin', 'BradPitt', 'BruceWillis', 'JohnGoodman', 'JohnnyDepp', 'LiamNeeson', 'MattDamon', 'MorganFreeman', 'NicolasCage', 'OwenWilson', 'RobertDeNiro', 'SamuelL.Jackson', 'SteveBuscemi', 'WillFerrell', 'WillemDafoe']\n",
    "target = ['vote_average']\n",
    "\n",
    "from sklearn import svm\n",
    "from sklearn.model_selection import cross_validate\n",
    "from sklearn.model_selection import GridSearchCV\n",
    "\n",
    "X = df[svm_features]\n",
    "Y = df[target]\n",
    "\n",
    "clf = svm.SVR(kernel='rbf', epsilon=0.1)\n",
    "parameters = { 'C': np.linspace(1, 100, 5) }\n",
    "gs_clf = GridSearchCV(clf, parameters, n_jobs=-1)\n",
    "\n",
    "# Specify that we want to use mean_squared_error for cross-validation\n",
    "cv_results = cross_validate(gs_clf, X, Y, cv=10, scoring='neg_mean_squared_error')\n",
    "test_score = cv_results['test_score']\n",
    "train_score = cv_results['train_score']\n",
    "\n",
    "print(test_score)\n",
    "print(train_score)\n",
    "\n",
    "print(\"Mean test score: \", reduce(lambda x, y: abs(x)+abs(y), test_score)/len(test_score))\n",
    "print(\"Mean train score: \", reduce(lambda x, y: abs(x)+abs(y), train_score)/len(train_score))"
   ]
  },
  {
   "cell_type": "code",
   "execution_count": 17,
   "metadata": {},
   "outputs": [
    {
     "name": "stdout",
     "output_type": "stream",
     "text": [
      "Selected Movie:  Avatar\n",
      "Predicted y_pred:  7.099842037094334\n",
      "Actual y:  0    7.2\n",
      "Name: vote_average, dtype: object\n"
     ]
    }
   ],
   "source": [
    "gs_clf.fit(X,Y)\n",
    "title = \"Avatar\"\n",
    "new_movie=df[df['original_title'].str.contains(title)].iloc[0].to_frame().T\n",
    "print('Selected Movie: ',new_movie.original_title.values[0])\n",
    "x_test = new_movie[svm_features]\n",
    "y_pred = gs_clf.predict(x_test)\n",
    "y = new_movie['vote_average']\n",
    "print(\"Predicted y_pred: \", y_pred[0])\n",
    "print(\"Actual y: \", y)"
   ]
  },
  {
   "cell_type": "code",
   "execution_count": 18,
   "metadata": {},
   "outputs": [
    {
     "name": "stdout",
     "output_type": "stream",
     "text": [
      "Selected Movie:  The Dark Knight Rises\n",
      "Predicted y_pred:  7.500053965195681\n",
      "Actual y:  3    7.6\n",
      "Name: vote_average, dtype: object\n"
     ]
    }
   ],
   "source": [
    "gs_clf.fit(X,Y)\n",
    "title = \"The Dark Knight\"\n",
    "new_movie=df[df['original_title'].str.contains(title)].iloc[0].to_frame().T\n",
    "print('Selected Movie: ',new_movie.original_title.values[0])\n",
    "x_test = new_movie[svm_features]\n",
    "y_pred = gs_clf.predict(x_test)\n",
    "y = new_movie['vote_average']\n",
    "print(\"Predicted y_pred: \", y_pred[0])\n",
    "print(\"Actual y: \", y)"
   ]
  },
  {
   "cell_type": "code",
   "execution_count": 19,
   "metadata": {},
   "outputs": [
    {
     "name": "stdout",
     "output_type": "stream",
     "text": [
      "Selected Movie:  The Shawshank Redemption\n",
      "Predicted y_pred:  7.643179494286222\n",
      "Actual y:  1881    8.5\n",
      "Name: vote_average, dtype: object\n"
     ]
    }
   ],
   "source": [
    "gs_clf.fit(X,Y)\n",
    "title = \"The Shawshank Redemption\"\n",
    "new_movie=df[df['original_title'].str.contains(title)].iloc[0].to_frame().T\n",
    "print('Selected Movie: ',new_movie.original_title.values[0])\n",
    "x_test = new_movie[svm_features]\n",
    "y_pred = gs_clf.predict(x_test)\n",
    "y = new_movie['vote_average']\n",
    "print(\"Predicted y_pred: \", y_pred[0])\n",
    "print(\"Actual y: \", y)"
   ]
  },
  {
   "cell_type": "code",
   "execution_count": null,
   "metadata": {},
   "outputs": [],
   "source": []
  }
 ],
 "metadata": {
  "kernelspec": {
   "display_name": "Python 3",
   "language": "python",
   "name": "python3"
  },
  "language_info": {
   "codemirror_mode": {
    "name": "ipython",
    "version": 3
   },
   "file_extension": ".py",
   "mimetype": "text/x-python",
   "name": "python",
   "nbconvert_exporter": "python",
   "pygments_lexer": "ipython3",
   "version": "3.6.4"
  }
 },
 "nbformat": 4,
 "nbformat_minor": 2
}
