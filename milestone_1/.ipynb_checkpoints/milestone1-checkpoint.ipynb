{
 "cells": [
  {
   "cell_type": "code",
   "execution_count": 2,
   "metadata": {
    "scrolled": true
   },
   "outputs": [
    {
     "ename": "ImportError",
     "evalue": "cannot import name 'imread'",
     "output_type": "error",
     "traceback": [
      "\u001b[0;31m---------------------------------------------------------------------------\u001b[0m",
      "\u001b[0;31mImportError\u001b[0m                               Traceback (most recent call last)",
      "\u001b[0;32m<ipython-input-2-96a56bdcda20>\u001b[0m in \u001b[0;36m<module>\u001b[0;34m()\u001b[0m\n\u001b[1;32m      9\u001b[0m \u001b[0;32mimport\u001b[0m \u001b[0mbase64\u001b[0m\u001b[0;34m\u001b[0m\u001b[0m\n\u001b[1;32m     10\u001b[0m \u001b[0;32mimport\u001b[0m \u001b[0mio\u001b[0m\u001b[0;34m\u001b[0m\u001b[0m\n\u001b[0;32m---> 11\u001b[0;31m \u001b[0;32mfrom\u001b[0m \u001b[0mscipy\u001b[0m\u001b[0;34m.\u001b[0m\u001b[0mmisc\u001b[0m \u001b[0;32mimport\u001b[0m \u001b[0mimread\u001b[0m\u001b[0;34m\u001b[0m\u001b[0m\n\u001b[0m\u001b[1;32m     12\u001b[0m \u001b[0;32mimport\u001b[0m \u001b[0mcodecs\u001b[0m\u001b[0;34m\u001b[0m\u001b[0m\n\u001b[1;32m     13\u001b[0m \u001b[0;32mfrom\u001b[0m \u001b[0mIPython\u001b[0m\u001b[0;34m.\u001b[0m\u001b[0mdisplay\u001b[0m \u001b[0;32mimport\u001b[0m \u001b[0mHTML\u001b[0m\u001b[0;34m\u001b[0m\u001b[0m\n",
      "\u001b[0;31mImportError\u001b[0m: cannot import name 'imread'"
     ]
    }
   ],
   "source": [
    "import pandas as pd\n",
    "import matplotlib.pyplot as plt\n",
    "plt.style.use('fivethirtyeight')\n",
    "import seaborn as sns\n",
    "import numpy as np\n",
    "import json\n",
    "import warnings\n",
    "warnings.filterwarnings('ignore')\n",
    "import base64\n",
    "import io\n",
    "# from scipy.misc import imread\n",
    "import codecs\n",
    "from IPython.display import HTML\n",
    "\n",
    "movies = pd.read_csv('../dataset/tmdb_5000_movies.csv')\n",
    "credits = pd.read_csv('../dataset/tmdb_5000_credits.csv')\n",
    "\n",
    "movies.head(3)\n",
    "#credits.head(3)\n",
    "\n",
    "# Possible features: keywords, popularity, production_countries,\n",
    "# revenue, vote_count\n",
    "\n",
    "\n",
    "# Clean the dataset by converting json columns into list of strings\n",
    "fields = ['genres', 'keywords', 'production_companies', 'production_countries']\n",
    "for field in fields:\n",
    "    movies[field]=movies[field].apply(json.loads)\n",
    "    for index,i in zip(movies.index,movies[field]):\n",
    "        list1=[]\n",
    "        for j in range(len(i)):\n",
    "            list1.append((i[j]['name']))\n",
    "        movies.loc[index,field]=str(list1)\n",
    "        \n",
    "        \n",
    "# Clean the credits \n",
    "credits['cast']=credits['cast'].apply(json.loads)\n",
    "for index,i in zip(credits.index,credits['cast']):\n",
    "    list1=[]\n",
    "    for j in range(len(i)):\n",
    "        list1.append((i[j]['name']))\n",
    "    credits.loc[index,'cast']=str(list1)\n",
    "\n",
    "fields = ['crew']\n",
    "for field in fields:\n",
    "    credits[field] = credits[field].apply(json.loads)\n",
    "    def director(x):\n",
    "        for i in x:\n",
    "            if i['job'] == 'Director':\n",
    "                return i['name']\n",
    "    credits['crew'] = credits['crew'].apply(director)\n",
    "    credits.rename(columns={'crew':'director'},inplace=True)"
   ]
  },
  {
   "cell_type": "code",
   "execution_count": null,
   "metadata": {},
   "outputs": [],
   "source": [
    "# Need to combine two datasets. Can join on movie_id\n",
    "df = pd.merge(movies, credits, how='left', left_on='id', right_on='movie_id')"
   ]
  },
  {
   "cell_type": "code",
   "execution_count": null,
   "metadata": {},
   "outputs": [],
   "source": [
    "# Feature engineering! select which ones we want here...\n",
    "features = ['id', 'original_title', 'genres', 'cast', 'vote_average', 'director', 'keywords', 'popularity', 'vote_count']\n",
    "df = df[features]"
   ]
  },
  {
   "cell_type": "code",
   "execution_count": null,
   "metadata": {},
   "outputs": [],
   "source": [
    "# Find top genres\n",
    "df['genres'] = df['genres'].str.strip('[]').str.replace(' ','').str.replace(\"'\",'').str.replace('Adventure', 'Adv').str.replace('u', '').str.replace('Adv', 'Adventure')\n",
    "df['genres'] = df['genres'].str.split(',')\n",
    "\n",
    "\n",
    "# Code for plotting from here: https://www.kaggle.com/ash316/what-s-my-score/notebook\n",
    "\n",
    "plt.subplots(figsize=(12,10))\n",
    "list1=[]\n",
    "for i in df['genres']:\n",
    "    list1.extend(i)\n",
    "ax=pd.Series(list1).value_counts()[:10].sort_values(ascending=True).plot.barh(width=0.9)\n",
    "for i, v in enumerate(pd.Series(list1).value_counts()[:10].sort_values(ascending=True).values): \n",
    "    ax.text(.8, i, v,fontsize=12,color='white',weight='bold')\n",
    "ax.patches[9].set_facecolor('r')\n",
    "plt.title('Top Genres')\n",
    "plt.show()"
   ]
  },
  {
   "cell_type": "code",
   "execution_count": null,
   "metadata": {},
   "outputs": [],
   "source": [
    "# Create an ordered list of all possible genres so we can use a bit string to represent them\n",
    "genreList = []\n",
    "for genres in df['genres']:\n",
    "    for genre in genres:\n",
    "        if genre not in genreList:\n",
    "            genreList.append(genre)\n",
    "            \n",
    "genreList.sort()\n",
    "genreList = genreList[1:]\n",
    "print(genreList)"
   ]
  },
  {
   "cell_type": "code",
   "execution_count": null,
   "metadata": {},
   "outputs": [],
   "source": [
    "# Create the bitstring of genres\n",
    "def genre_bitlist(genres):\n",
    "    blist = []\n",
    "    for genre in genreList:\n",
    "        if genre in genres:\n",
    "            blist.append(1)\n",
    "        else:\n",
    "            blist.append(0)\n",
    "    return blist\n",
    "\n",
    "            \n",
    "df['genres_bs'] = df['genres'].apply(lambda x: genre_bitlist(x))"
   ]
  },
  {
   "cell_type": "code",
   "execution_count": null,
   "metadata": {},
   "outputs": [],
   "source": [
    "# Work with cast. Let's get the top 25 actors\n",
    "n = 25\n",
    "\n",
    "df['cast']=df['cast'].str.strip('[]').str.replace(' ','').str.replace(\"'\",'').str.replace('\"','')\n",
    "df['cast']=df['cast'].str.split(',')\n"
   ]
  },
  {
   "cell_type": "code",
   "execution_count": null,
   "metadata": {},
   "outputs": [],
   "source": [
    "plt.subplots(figsize=(12,10))\n",
    "list1=[]\n",
    "for i in df['cast']:\n",
    "    list1.extend(i)\n",
    "ax=pd.Series(list1).value_counts()[:15].sort_values(ascending=True).plot.barh(width=0.9)\n",
    "for i, v in enumerate(pd.Series(list1).value_counts()[:15].sort_values(ascending=True).values): \n",
    "    ax.text(.8, i, v,fontsize=10,color='white',weight='bold')\n",
    "plt.title('Actors with highest appearance')\n",
    "ax.patches[14].set_facecolor('r')\n",
    "plt.show()"
   ]
  },
  {
   "cell_type": "code",
   "execution_count": 3,
   "metadata": {},
   "outputs": [
    {
     "ename": "NameError",
     "evalue": "name 'df' is not defined",
     "output_type": "error",
     "traceback": [
      "\u001b[0;31m---------------------------------------------------------------------------\u001b[0m",
      "\u001b[0;31mNameError\u001b[0m                                 Traceback (most recent call last)",
      "\u001b[0;32m<ipython-input-3-ea0ffa040dfa>\u001b[0m in \u001b[0;36m<module>\u001b[0;34m()\u001b[0m\n\u001b[1;32m      2\u001b[0m \u001b[0mactorList\u001b[0m \u001b[0;34m=\u001b[0m \u001b[0;34m[\u001b[0m\u001b[0;34m]\u001b[0m\u001b[0;34m\u001b[0m\u001b[0m\n\u001b[1;32m      3\u001b[0m \u001b[0mlist1\u001b[0m \u001b[0;34m=\u001b[0m \u001b[0;34m[\u001b[0m\u001b[0;34m]\u001b[0m\u001b[0;34m\u001b[0m\u001b[0m\n\u001b[0;32m----> 4\u001b[0;31m \u001b[0;32mfor\u001b[0m \u001b[0mi\u001b[0m \u001b[0;32min\u001b[0m \u001b[0mdf\u001b[0m\u001b[0;34m[\u001b[0m\u001b[0;34m'cast'\u001b[0m\u001b[0;34m]\u001b[0m\u001b[0;34m:\u001b[0m\u001b[0;34m\u001b[0m\u001b[0m\n\u001b[0m\u001b[1;32m      5\u001b[0m     \u001b[0mlist1\u001b[0m\u001b[0;34m.\u001b[0m\u001b[0mextend\u001b[0m\u001b[0;34m(\u001b[0m\u001b[0mi\u001b[0m\u001b[0;34m)\u001b[0m\u001b[0;34m\u001b[0m\u001b[0m\n\u001b[1;32m      6\u001b[0m \u001b[0;34m\u001b[0m\u001b[0m\n",
      "\u001b[0;31mNameError\u001b[0m: name 'df' is not defined"
     ]
    }
   ],
   "source": [
    "import operator \n",
    "actorList = []\n",
    "list1 = []\n",
    "for i in df['cast']:\n",
    "    list1.extend(i)\n",
    "    \n",
    "actors = {}\n",
    "for actor in list1:\n",
    "    if actor in actors:\n",
    "        actors[actor] += 1\n",
    "    else:\n",
    "        actors[actor] = 1\n",
    "        \n",
    "sorted_actors = sorted(actors.items(), key=operator.itemgetter(1))\n",
    "\n",
    "for i in range(0, 21):\n",
    "    actorList.append(sorted_actors[-1-i])\n",
    "    \n",
    "\n",
    "actorList = [actor[0] for actor in actorList]\n",
    "alist = []\n",
    "for actor in actorList:\n",
    "    if actor != 'r.': # Get rid of this trailing value\n",
    "        alist.append(actor)\n",
    "actorList = alist\n",
    "\n",
    "# Now we need to sort the list!\n",
    "actorList = sorted(actorList)\n",
    "actorList = actorList[1:]"
   ]
  },
  {
   "cell_type": "code",
   "execution_count": 4,
   "metadata": {},
   "outputs": [
    {
     "ename": "NameError",
     "evalue": "name 'df' is not defined",
     "output_type": "error",
     "traceback": [
      "\u001b[0;31m---------------------------------------------------------------------------\u001b[0m",
      "\u001b[0;31mNameError\u001b[0m                                 Traceback (most recent call last)",
      "\u001b[0;32m<ipython-input-4-175055fc9ad9>\u001b[0m in \u001b[0;36m<module>\u001b[0;34m()\u001b[0m\n\u001b[1;32m      9\u001b[0m     \u001b[0;32mreturn\u001b[0m \u001b[0mblist\u001b[0m\u001b[0;34m\u001b[0m\u001b[0m\n\u001b[1;32m     10\u001b[0m \u001b[0;34m\u001b[0m\u001b[0m\n\u001b[0;32m---> 11\u001b[0;31m \u001b[0mdf\u001b[0m\u001b[0;34m[\u001b[0m\u001b[0;34m'cast_bs'\u001b[0m\u001b[0;34m]\u001b[0m \u001b[0;34m=\u001b[0m \u001b[0mdf\u001b[0m\u001b[0;34m[\u001b[0m\u001b[0;34m'cast'\u001b[0m\u001b[0;34m]\u001b[0m\u001b[0;34m.\u001b[0m\u001b[0mapply\u001b[0m\u001b[0;34m(\u001b[0m\u001b[0;32mlambda\u001b[0m \u001b[0mx\u001b[0m\u001b[0;34m:\u001b[0m \u001b[0mactor_bitlist\u001b[0m\u001b[0;34m(\u001b[0m\u001b[0mx\u001b[0m\u001b[0;34m)\u001b[0m\u001b[0;34m)\u001b[0m\u001b[0;34m\u001b[0m\u001b[0m\n\u001b[0m",
      "\u001b[0;31mNameError\u001b[0m: name 'df' is not defined"
     ]
    }
   ],
   "source": [
    "# Create the bitstring of genres\n",
    "def actor_bitlist(actors):\n",
    "    blist = []\n",
    "    for actor in actorList:\n",
    "        if actor in actors:\n",
    "            blist.append(1)\n",
    "        else:\n",
    "            blist.append(0)\n",
    "    return blist\n",
    "\n",
    "df['cast_bs'] = df['cast'].apply(lambda x: actor_bitlist(x))"
   ]
  },
  {
   "cell_type": "code",
   "execution_count": 12,
   "metadata": {},
   "outputs": [
    {
     "data": {
      "image/png": "[encoded data removed]",
      "text/plain": [
       "<matplotlib.figure.Figure at 0x7febe5bda2d0>"
      ]
     },
     "metadata": {},
     "output_type": "display_data"
    }
   ],
   "source": [
    "# Now directors\n",
    "def isnull(s):\n",
    "    if s is None:\n",
    "        return ''\n",
    "    return s\n",
    "\n",
    "df['director'] = df['director'].apply(isnull)\n",
    "\n",
    "\n",
    "plt.subplots(figsize=(12,10))\n",
    "ax=df[df['director']!=''].director.value_counts()[:10].sort_values(ascending=True).plot.barh(width=0.85)\n",
    "for i, v in enumerate(df[df['director']!=''].director.value_counts()[:10].sort_values(ascending=True).values): \n",
    "    ax.text(.5, i, v,fontsize=12,color='white',weight='bold')\n",
    "ax.patches[9].set_facecolor('r')\n",
    "plt.title('Directors with highest movies')\n",
    "plt.show()"
   ]
  },
  {
   "cell_type": "code",
   "execution_count": 13,
   "metadata": {},
   "outputs": [],
   "source": [
    "directorList = []\n",
    "for director in df['director']:\n",
    "    if director not in directorList:\n",
    "        directorList.append(director)\n",
    "        \n",
    "directorList = sorted(directorList)[1:]"
   ]
  },
  {
   "cell_type": "code",
   "execution_count": 14,
   "metadata": {},
   "outputs": [],
   "source": [
    "def director_bitlist(directors):\n",
    "    blist = []\n",
    "    for director in directorList:\n",
    "        if director in directors:\n",
    "            blist.append(1)\n",
    "        else:\n",
    "            blist.append(0)\n",
    "    return blist\n",
    "\n",
    "df['director_bs'] = df['director'].apply(lambda x: director_bitlist(x))"
   ]
  },
  {
   "cell_type": "code",
   "execution_count": 15,
   "metadata": {},
   "outputs": [],
   "source": [
    "# Allows us to make each genre a category in the dataframe\n",
    "from collections import defaultdict\n",
    "cols = defaultdict(list)\n",
    "for g in genreList:\n",
    "    for index, row in df.iterrows():\n",
    "        genres = row[\"genres\"]\n",
    "        if g in genres:\n",
    "            cols[g].append(1)\n",
    "        else:\n",
    "            cols[g].append(0)\n",
    "        \n",
    "    df[g] = cols[g]\n",
    "    "
   ]
  },
  {
   "cell_type": "code",
   "execution_count": 16,
   "metadata": {},
   "outputs": [],
   "source": [
    "# Allows us to make each actor a category in the dataframe\n",
    "from collections import defaultdict\n",
    "cols = defaultdict(list)\n",
    "for a in actorList:\n",
    "    for index, row in df.iterrows():\n",
    "        cast = row[\"cast\"]\n",
    "        if a in cast:\n",
    "            cols[a].append(1)\n",
    "        else:\n",
    "            cols[a].append(0)\n",
    "        \n",
    "    df[a] = cols[a]"
   ]
  },
  {
   "cell_type": "code",
   "execution_count": 1,
   "metadata": {},
   "outputs": [
    {
     "ename": "NameError",
     "evalue": "name 'df' is not defined",
     "output_type": "error",
     "traceback": [
      "\u001b[0;31m---------------------------------------------------------------------------\u001b[0m",
      "\u001b[0;31mNameError\u001b[0m                                 Traceback (most recent call last)",
      "\u001b[0;32m<ipython-input-1-aeb0963f2f2f>\u001b[0m in \u001b[0;36m<module>\u001b[0;34m()\u001b[0m\n\u001b[1;32m      5\u001b[0m \u001b[0;32mfrom\u001b[0m \u001b[0msklearn\u001b[0m\u001b[0;34m.\u001b[0m\u001b[0mmodel_selection\u001b[0m \u001b[0;32mimport\u001b[0m \u001b[0mcross_validate\u001b[0m\u001b[0;34m\u001b[0m\u001b[0m\n\u001b[1;32m      6\u001b[0m \u001b[0;34m\u001b[0m\u001b[0m\n\u001b[0;32m----> 7\u001b[0;31m \u001b[0mdf\u001b[0m\u001b[0;34m.\u001b[0m\u001b[0mhead\u001b[0m\u001b[0;34m\u001b[0m\u001b[0m\n\u001b[0m\u001b[1;32m      8\u001b[0m \u001b[0;34m\u001b[0m\u001b[0m\n\u001b[1;32m      9\u001b[0m \u001b[0mX\u001b[0m \u001b[0;34m=\u001b[0m \u001b[0mdf\u001b[0m\u001b[0;34m[\u001b[0m\u001b[0mlin_features\u001b[0m\u001b[0;34m]\u001b[0m\u001b[0;34m\u001b[0m\u001b[0m\n",
      "\u001b[0;31mNameError\u001b[0m: name 'df' is not defined"
     ]
    }
   ],
   "source": [
    "lin_features = ['popularity',  'vote_count', 'Action', 'Adventure', 'Animation', 'Comedy', 'Crime', 'Docmentary', 'Drama', 'Family', 'Fantasy', 'Foreign', 'History', 'Horror', 'Msic', 'Mystery', 'Romance', 'ScienceFiction', 'TVMovie', 'Thriller', 'War', 'Western', 'uAlecBaldwin', 'uBradPitt', 'uBruceWillis', 'uJimBroadbent', 'uJohnGoodman', 'uJohnnyDepp', 'uLiamNeeson', 'uMattDamon', 'uMorganFreeman', 'uNicolasCage', 'uOwenWilson', 'uPaulGiamatti', 'uRichardJenkins', 'uRobertDeNiro', 'uSamuelL.Jackson', 'uStanleyTucci', 'uSteveBuscemi', 'uWillFerrell', 'uWillemDafoe']\n",
    "target = ['vote_average']\n",
    "\n",
    "from sklearn import linear_model\n",
    "from sklearn.model_selection import cross_validate\n",
    "\n",
    "df.head\n",
    "\n",
    "X = df[lin_features]\n",
    "Y = df[target]\n",
    "\n",
    "lin = linear_model.LinearRegression()\n",
    "\n",
    "\n",
    "# Don't specify scoring/loss function so that it will default to \n",
    "# linear regression's default of sum of residual squares (what we want)\n",
    "cv_results = cross_validate(lin, X, Y, cv=10)"
   ]
  },
  {
   "cell_type": "code",
   "execution_count": 18,
   "metadata": {},
   "outputs": [
    {
     "name": "stdout",
     "output_type": "stream",
     "text": [
      "[-0.71742313  0.21853538  0.30874313  0.34067388  0.33812691  0.32986608\n",
      "  0.1821567   0.12108218  0.1382748  -0.00193754]\n",
      "[0.21932646 0.20804091 0.20742543 0.20295641 0.20238664 0.20309788\n",
      " 0.21266465 0.2176777  0.22678627 0.26493702]\n",
      "('Mean test score: ', 0.269681972297108)\n",
      "('Mean train score: ', 0.21652993778593715)\n"
     ]
    }
   ],
   "source": [
    "test_score = cv_results['test_score']\n",
    "train_score = cv_results['train_score']\n",
    "\n",
    "print(test_score)\n",
    "print(train_score)\n",
    "\n",
    "print(\"Mean test score: \", reduce(lambda x, y: abs(x)+abs(y), test_score)/len(test_score))\n",
    "print(\"Mean train score: \", reduce(lambda x, y: abs(x)+abs(y), train_score)/len(train_score))"
   ]
  },
  {
   "cell_type": "code",
   "execution_count": 52,
   "metadata": {},
   "outputs": [
    {
     "name": "stdout",
     "output_type": "stream",
     "text": [
      "('Selected Movie: ', 'Avatar')\n",
      "Predicted y_pred:  [9.14480529]\n",
      "Actual y:  0    7.2\n",
      "Name: vote_average, dtype: object\n"
     ]
    }
   ],
   "source": [
    "lin.fit(X,Y)\n",
    "title = \"Avatar\"\n",
    "new_movie=df[df['original_title'].str.contains(title)].iloc[0].to_frame().T\n",
    "print('Selected Movie: ',new_movie.original_title.values[0])\n",
    "x_test = new_movie[lin_features]\n",
    "y_pred = lin.predict(x_test)\n",
    "y = new_movie['vote_average']\n",
    "print\"Predicted y_pred: \", y_pred[0]\n",
    "print \"Actual y: \", y"
   ]
  },
  {
   "cell_type": "code",
   "execution_count": 30,
   "metadata": {},
   "outputs": [],
   "source": [
    "# # Now let's do the Decision Tree!\n",
    "# from sklearn.tree import DecisionTreeClassifier\n",
    "# from sklearn.model_selection import cross_val_score\n",
    "# classifier = DecisionTreeClassifier(random_state=0)\n",
    "# dt_features = ['Action', 'Adventure', 'Animation', 'Comedy', 'Crime', 'Docmentary', 'Drama', 'Family', 'Fantasy', 'Foreign', 'History', 'Horror', 'Msic', 'Mystery', 'Romance', 'ScienceFiction', 'TVMovie', 'Thriller', 'War', 'Western', 'uAlecBaldwin', 'uBradPitt', 'uBruceWillis', 'uJimBroadbent', 'uJohnGoodman', 'uJohnnyDepp', 'uLiamNeeson', 'uMattDamon', 'uMorganFreeman', 'uNicolasCage', 'uOwenWilson', 'uPaulGiamatti', 'uRichardJenkins', 'uRobertDeNiro', 'uSamuelL.Jackson', 'uStanleyTucci', 'uSteveBuscemi', 'uWillFerrell', 'uWillemDafoe']\n",
    "# #dt_target = ['Action', 'Adventure', 'Animation', 'Comedy', 'Crime', 'Docmentary', 'Drama', 'Family', 'Fantasy', 'Foreign', 'History', 'Horror', 'Msic', 'Mystery', 'Romance', 'ScienceFiction', 'TVMovie']\n",
    "# dt_X = df[dt_features]\n",
    "# dt_Y = df[dt_target]\n",
    "# dt_cv_score = cross_validate(classifier, dt_X, dt_Y, cv=10)"
   ]
  },
  {
   "cell_type": "code",
   "execution_count": 31,
   "metadata": {},
   "outputs": [
    {
     "name": "stdout",
     "output_type": "stream",
     "text": [
      "{'score_time': array([0.00352883, 0.00173712, 0.00160289, 0.00154305, 0.00198793,\n",
      "       0.00156212, 0.00162697, 0.00155902, 0.00152802, 0.0015831 ]), 'test_score': array([0.92515593, 0.94802495, 0.97505198, 0.95208333, 0.93541667,\n",
      "       0.9625    , 0.97291667, 0.97083333, 0.94791667, 0.95625   ]), 'train_score': array([1., 1., 1., 1., 1., 1., 1., 1., 1., 1.]), 'fit_time': array([0.03224015, 0.03090596, 0.01852703, 0.01732683, 0.01708698,\n",
      "       0.01739097, 0.01789093, 0.01809287, 0.01750398, 0.01767206])}\n"
     ]
    }
   ],
   "source": [
    "print(dt_cv_score)\n",
    "# Best possible score is 1, worst is 0\n",
    "# The Decision Tree does very very well with classifying the genre"
   ]
  },
  {
   "cell_type": "code",
   "execution_count": 33,
   "metadata": {},
   "outputs": [],
   "source": [
    "# Now let's do the Decision Tree!\n",
    "from sklearn.tree import DecisionTreeRegressor\n",
    "from sklearn.model_selection import cross_val_score\n",
    "regressor = DecisionTreeRegressor(random_state=0)\n",
    "dt_features = ['Action', 'Adventure', 'Animation', 'Comedy', 'Crime', 'Docmentary', 'Drama', 'Family', 'Fantasy', 'Foreign', 'History', 'Horror', 'Msic', 'Mystery', 'Romance', 'ScienceFiction', 'TVMovie', 'Thriller', 'War', 'Western', 'uAlecBaldwin', 'uBradPitt', 'uBruceWillis', 'uJimBroadbent', 'uJohnGoodman', 'uJohnnyDepp', 'uLiamNeeson', 'uMattDamon', 'uMorganFreeman', 'uNicolasCage', 'uOwenWilson', 'uPaulGiamatti', 'uRichardJenkins', 'uRobertDeNiro', 'uSamuelL.Jackson', 'uStanleyTucci', 'uSteveBuscemi', 'uWillFerrell', 'uWillemDafoe']\n",
    "dt_target = ['vote_average']\n",
    "dt_X = df[dt_features]\n",
    "dt_Y = df[dt_target]\n",
    "dt_cv_score = cross_validate(regressor, dt_X, dt_Y, cv=10)"
   ]
  },
  {
   "cell_type": "code",
   "execution_count": 47,
   "metadata": {},
   "outputs": [
    {
     "name": "stdout",
     "output_type": "stream",
     "text": [
      "('Selected Movie: ', 'The Dark Knight Rises')\n",
      "Predicted y_pred:  7.6\n",
      "Actual y:  3    7.6\n",
      "Name: vote_average, dtype: object\n"
     ]
    }
   ],
   "source": [
    "regressor.fit(dt_X,dt_Y)\n",
    "title = \"Dark Knight\"\n",
    "new_movie=df[df['original_title'].str.contains(title)].iloc[0].to_frame().T\n",
    "print('Selected Movie: ',new_movie.original_title.values[0])\n",
    "x_test = new_movie[dt_features]\n",
    "y_pred = regressor.predict(x_test)\n",
    "y = new_movie['vote_average']\n",
    "print\"Predicted y_pred: \", y_pred[0]\n",
    "print \"Actual y: \", y"
   ]
  },
  {
   "cell_type": "code",
   "execution_count": null,
   "metadata": {},
   "outputs": [],
   "source": []
  },
  {
   "cell_type": "code",
   "execution_count": null,
   "metadata": {},
   "outputs": [],
   "source": []
  }
 ],
 "metadata": {
  "kernelspec": {
   "display_name": "Python 3",
   "language": "python",
   "name": "python3"
  },
  "language_info": {
   "codemirror_mode": {
    "name": "ipython",
    "version": 3
   },
   "file_extension": ".py",
   "mimetype": "text/x-python",
   "name": "python",
   "nbconvert_exporter": "python",
   "pygments_lexer": "ipython3",
   "version": "3.6.3"
  }
 },
 "nbformat": 4,
 "nbformat_minor": 2
}
