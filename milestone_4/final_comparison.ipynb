{
 "cells": [
  {
   "cell_type": "code",
   "execution_count": 68,
   "metadata": {},
   "outputs": [],
   "source": [
    "import pandas as pd\n",
    "import numpy as np\n",
    "import math\n",
    "import matplotlib.pyplot as plt\n",
    "import json\n",
    "import warnings\n",
    "warnings.filterwarnings('ignore')\n",
    "import base64\n",
    "import io\n",
    "from functools import reduce"
   ]
  },
  {
   "cell_type": "code",
   "execution_count": 69,
   "metadata": {},
   "outputs": [],
   "source": [
    "# read in the csv files\n",
    "movies = pd.read_csv('../dataset/tmdb_5000_movies.csv')\n",
    "credits = pd.read_csv('../dataset/tmdb_5000_credits.csv')\n",
    "\n",
    "# Clean the dataset by converting json columns into list of strings\n",
    "fields = ['genres', 'keywords', 'production_companies', 'production_countries']\n",
    "for field in fields:\n",
    "    movies[field]=movies[field].apply(json.loads)\n",
    "    for index,i in zip(movies.index,movies[field]):\n",
    "        list1=[]\n",
    "        for j in range(len(i)):\n",
    "            list1.append((i[j]['name']))\n",
    "        movies.loc[index,field]=str(list1)\n",
    "        \n",
    "        \n",
    "# Clean the credits \n",
    "credits['cast']=credits['cast'].apply(json.loads)\n",
    "for index,i in zip(credits.index,credits['cast']):\n",
    "    list1=[]\n",
    "    for j in range(len(i)):\n",
    "        list1.append((i[j]['name']))\n",
    "    credits.loc[index,'cast']=str(list1)\n",
    "\n",
    "fields = ['crew']\n",
    "for field in fields:\n",
    "    credits[field] = credits[field].apply(json.loads)\n",
    "    def director(x):\n",
    "        for i in x:\n",
    "            if i['job'] == 'Director':\n",
    "                return i['name']\n",
    "    credits['crew'] = credits['crew'].apply(director)\n",
    "    credits.rename(columns={'crew':'director'},inplace=True)\n",
    "    \n",
    "# Need to combine two datasets. Can join on movie_id\n",
    "df = pd.merge(movies, credits, how='left', left_on='id', right_on='movie_id')\n",
    "\n",
    "# Feature engineering! select which ones we want here...\n",
    "features = ['id', 'original_title', 'genres', 'cast', 'vote_average', 'director', 'keywords', 'popularity', 'vote_count']\n",
    "df = df[features]\n",
    "\n",
    "# Format genres\n",
    "df['genres'] = df['genres'].str.strip('[]').str.replace(' ','').str.replace(\"'\",'').str.replace('Adventure', 'Adv').str.replace('u', '').str.replace('Adv', 'Adventure')\n",
    "df['genres'] = df['genres'].str.split(',')\n",
    "\n",
    "# Create an ordered list of all possible genres so we can use a bit string to represent them\n",
    "genreList = []\n",
    "for genres in df['genres']:\n",
    "    for genre in genres:\n",
    "        if genre not in genreList:\n",
    "            genreList.append(genre)\n",
    "            \n",
    "genreList.sort()\n",
    "genreList = genreList[1:]\n",
    "\n",
    "# Create the bitstring of genres\n",
    "def genre_bitlist(genres):\n",
    "    blist = []\n",
    "    for genre in genreList:\n",
    "        if genre in genres:\n",
    "            blist.append(1)\n",
    "        else:\n",
    "            blist.append(0)\n",
    "    return blist\n",
    "\n",
    "            \n",
    "df['genres_bs'] = df['genres'].apply(lambda x: genre_bitlist(x))\n",
    "\n",
    "# Format the cast\n",
    "df['cast']=df['cast'].str.strip('[]').str.replace(' ','').str.replace(\"'\",'').str.replace('\"','')\n",
    "df['cast']=df['cast'].str.split(',')\n",
    "\n",
    "# Create a list of actors\n",
    "import operator \n",
    "actorList = []\n",
    "list1 = []\n",
    "for i in df['cast']:\n",
    "    list1.extend(i)\n",
    "    \n",
    "actors = {}\n",
    "for actor in list1:\n",
    "    if actor in actors:\n",
    "        actors[actor] += 1\n",
    "    else:\n",
    "        actors[actor] = 1\n",
    "        \n",
    "sorted_actors = sorted(actors.items(), key=operator.itemgetter(1))\n",
    "\n",
    "for i in range(0, 21):\n",
    "    actorList.append(sorted_actors[-1-i])\n",
    "    \n",
    "\n",
    "actorList = [actor[0] for actor in actorList]\n",
    "alist = []\n",
    "for actor in actorList:\n",
    "    if actor != 'r.': # Get rid of this trailing value\n",
    "        alist.append(actor)\n",
    "actorList = alist\n",
    "\n",
    "# Now we need to sort the list!\n",
    "actorList = sorted(actorList)\n",
    "actorList = actorList[1:]\n",
    "\n",
    "# Create the bitstring of actors\n",
    "def actor_bitlist(actors):\n",
    "    blist = []\n",
    "    for actor in actorList:\n",
    "        if actor in actors:\n",
    "            blist.append(1)\n",
    "        else:\n",
    "            blist.append(0)\n",
    "    return blist\n",
    "\n",
    "df['cast_bs'] = df['cast'].apply(lambda x: actor_bitlist(x))\n",
    "\n",
    "# Now directors\n",
    "def isnull(s):\n",
    "    if s is None:\n",
    "        return ''\n",
    "    return s\n",
    "\n",
    "df['director'] = df['director'].apply(isnull)\n",
    "\n",
    "# Create a list of directors\n",
    "directorList = []\n",
    "for director in df['director']:\n",
    "    if director not in directorList:\n",
    "        directorList.append(director)\n",
    "        \n",
    "directorList = sorted(directorList)[1:]\n",
    "\n",
    "# Create the bitstring of directors\n",
    "def director_bitlist(directors):\n",
    "    blist = []\n",
    "    for director in directorList:\n",
    "        if director in directors:\n",
    "            blist.append(1)\n",
    "        else:\n",
    "            blist.append(0)\n",
    "    return blist\n",
    "\n",
    "df['director_bs'] = df['director'].apply(lambda x: director_bitlist(x))\n",
    "\n",
    "# Allows us to make each genre a category in the dataframe\n",
    "from collections import defaultdict\n",
    "cols = defaultdict(list)\n",
    "for g in genreList:\n",
    "    for index, row in df.iterrows():\n",
    "        genres = row[\"genres\"]\n",
    "        if g in genres:\n",
    "            cols[g].append(1)\n",
    "        else:\n",
    "            cols[g].append(0)\n",
    "        \n",
    "    df[g] = cols[g]\n",
    "    \n",
    "# Allows us to make each actor a category in the dataframe\n",
    "from collections import defaultdict\n",
    "cols = defaultdict(list)\n",
    "for a in actorList:\n",
    "    for index, row in df.iterrows():\n",
    "        cast = row[\"cast\"]\n",
    "        if a in cast:\n",
    "            cols[a].append(1)\n",
    "        else:\n",
    "            cols[a].append(0)\n",
    "        \n",
    "    df[a] = cols[a]"
   ]
  },
  {
   "cell_type": "code",
   "execution_count": 70,
   "metadata": {},
   "outputs": [],
   "source": [
    "# finalize features for models\n",
    "final_features = ['popularity',  'vote_count', 'Action', 'Adventure', 'Animation', 'Comedy', 'Docmentary', 'Drama', 'Family', 'Fantasy', 'Foreign', 'History', 'Horror', 'Mystery', 'Romance', 'ScienceFiction', 'Thriller', 'War', 'Western', 'AlecBaldwin', 'BradPitt', 'BruceWillis', 'JohnGoodman', 'JohnnyDepp', 'LiamNeeson', 'MattDamon', 'MorganFreeman', 'NicolasCage', 'OwenWilson', 'RobertDeNiro', 'SamuelL.Jackson', 'SteveBuscemi', 'WillFerrell', 'WillemDafoe']\n",
    "target = ['vote_average']\n",
    "\n",
    "X = df[final_features]\n",
    "Y = df[target]"
   ]
  },
  {
   "cell_type": "code",
   "execution_count": 120,
   "metadata": {},
   "outputs": [],
   "source": [
    "# data frame to store all results\n",
    "results = pd.DataFrame()"
   ]
  },
  {
   "cell_type": "code",
   "execution_count": 152,
   "metadata": {},
   "outputs": [],
   "source": [
    "# Lin Reg\n",
    "\n",
    "from sklearn import linear_model\n",
    "from sklearn.model_selection import cross_validate\n",
    "\n",
    "\n",
    "test_scores = []\n",
    "train_scores = []\n",
    "for i in range(10):\n",
    "    # Specify that we want to use mean_squared error for the cross-validation\n",
    "    new_df = df.sample(frac=1)\n",
    "    new_X = new_df[final_features]\n",
    "    new_Y = new_df[target]\n",
    "\n",
    "    lin = linear_model.LinearRegression()\n",
    "    cv_results = cross_validate(lin, X, Y, cv=10, scoring='neg_mean_squared_error')\n",
    "    \n",
    "    test_score = abs(cv_results['test_score'])\n",
    "    train_score = abs(cv_results['train_score'])\n",
    "    \n",
    "    test_scores = np.append(test_score, test_scores)\n",
    "    train_scores = np.append(train_score, train_scores)\n",
    "\n",
    "results['lin'] = test_scores"
   ]
  },
  {
   "cell_type": "code",
   "execution_count": 153,
   "metadata": {},
   "outputs": [
    {
     "name": "stdout",
     "output_type": "stream",
     "text": [
      "Mean LR test score:  1.2391289483\n",
      "Std LR test score:  1.17124353968\n",
      "Mean LR train score:  1.12905262327\n",
      "Std LR train score:  0.128711422417\n"
     ]
    }
   ],
   "source": [
    "print(\"Mean LR test score: \", np.mean(test_scores))\n",
    "print(\"Std LR test score: \", np.std(test_scores))\n",
    "print(\"Mean LR train score: \", np.mean(train_scores))\n",
    "print(\"Std LR train score: \", np.std(train_scores))"
   ]
  },
  {
   "cell_type": "code",
   "execution_count": 180,
   "metadata": {},
   "outputs": [],
   "source": [
    "# PCA Lin Reg\n",
    "\n",
    "from sklearn import linear_model\n",
    "from sklearn.decomposition import PCA\n",
    "from sklearn.model_selection import cross_validate\n",
    "\n",
    "test_scores = []\n",
    "train_scores = []\n",
    "for i in range(10):\n",
    "    # Specify that we want to use mean_squared error for the cross-validation\n",
    "    new_df = df.sample(frac=1)\n",
    "    new_X = new_df[final_features]\n",
    "    new_Y = new_df[target]\n",
    "    \n",
    "    lin = linear_model.LinearRegression()\n",
    "    \n",
    "    pca = PCA(n_components=2)\n",
    "    pca_data = pca.fit_transform(new_X)\n",
    "    pca_cv_results = cross_validate(lin, pca_data, Y, cv=10, scoring='neg_mean_squared_error')\n",
    "    \n",
    "    test_score = abs(pca_cv_results['test_score'])\n",
    "    train_score = abs(pca_cv_results['train_score'])\n",
    "    \n",
    "    test_scores = np.append(test_score, test_scores)\n",
    "    train_scores = np.append(train_score, train_scores)\n",
    "\n",
    "results['pca_lin'] = test_scores"
   ]
  },
  {
   "cell_type": "code",
   "execution_count": 181,
   "metadata": {},
   "outputs": [
    {
     "name": "stdout",
     "output_type": "stream",
     "text": [
      "Mean PCA LR test score:  1.43891818638\n",
      "Std PCA LR test score:  1.25891345627\n",
      "Mean PCA LR train score:  1.42525837409\n",
      "Std PCA LR train score:  0.138588174642\n"
     ]
    }
   ],
   "source": [
    "print(\"Mean PCA LR test score: \", np.mean(test_scores))\n",
    "print(\"Std PCA LR test score: \", np.std(test_scores))\n",
    "print(\"Mean PCA LR train score: \", np.mean(train_scores))\n",
    "print(\"Std PCA LR train score: \", np.std(train_scores))"
   ]
  },
  {
   "cell_type": "code",
   "execution_count": 204,
   "metadata": {},
   "outputs": [],
   "source": [
    "#Decision Tree\n",
    "\n",
    "from sklearn.tree import DecisionTreeRegressor\n",
    "\n",
    "test_scores = []\n",
    "train_scores = []\n",
    "for i in range(10):\n",
    "    # Specify that we want to use mean_squared error for the cross-validation\n",
    "    new_df = df.sample(frac=1)\n",
    "    new_X = new_df[final_features]\n",
    "    new_Y = new_df[target]\n",
    "\n",
    "    dt = DecisionTreeRegressor(random_state=0)\n",
    "    cv_results = cross_validate(dt, X, Y, cv=10, scoring='neg_mean_squared_error')\n",
    "    \n",
    "    test_score = abs(cv_results['test_score'])\n",
    "    train_score = abs(cv_results['train_score'])\n",
    "    \n",
    "    test_scores = np.append(test_score, test_scores)\n",
    "    train_scores = np.append(train_score, train_scores)\n",
    "\n",
    "results['dt'] = test_scores"
   ]
  },
  {
   "cell_type": "code",
   "execution_count": 206,
   "metadata": {},
   "outputs": [
    {
     "name": "stdout",
     "output_type": "stream",
     "text": [
      "Mean DT test score:  1.24602984234\n",
      "Std DT test score:  0.413562677722\n",
      "Mean DT train score:  5.74857500673e-33\n",
      "Std DT train score:  1.4120204754e-33\n"
     ]
    }
   ],
   "source": [
    "print(\"Mean DT test score: \", np.mean(test_scores))\n",
    "print(\"Std DT test score: \", np.std(test_scores))\n",
    "print(\"Mean DT train score: \", np.mean(train_scores))\n",
    "print(\"Std DT train score: \", np.std(train_scores))"
   ]
  },
  {
   "cell_type": "code",
   "execution_count": 122,
   "metadata": {
    "scrolled": true
   },
   "outputs": [],
   "source": [
    "# Gaussian Process\n",
    "\n",
    "import pyGPs\n",
    "\n",
    "test_scores = []\n",
    "\n",
    "for i in range(10):\n",
    "    \n",
    "    new_df = df.sample(frac=1)\n",
    "    new_X = new_df[final_features]\n",
    "    new_Y = new_df[target]\n",
    "    \n",
    "    k1, k2, k3, k4, k5, k6, k7, k8, k9, k10 = pyGPs.Validation.valid.k_fold_validation(new_X, new_Y, K=10, randomise=True)\n",
    "    k_folds = [k1, k2, k3, k4, k5, k6, k7, k8, k9, k10]\n",
    "\n",
    "    kernel1 = pyGPs.cov.RBF(log_ell=math.log(1/math.sqrt(2)), log_sigma=math.log(1))\n",
    "    \n",
    "    oos_y1 = []\n",
    "    oos_pred1 = []\n",
    "    meanNLPD = 0\n",
    "    meanRMSE = 0\n",
    "\n",
    "    for i, k in enumerate(k_folds):\n",
    "        x_train, x_test, y_train, y_test = k\n",
    "\n",
    "        model = pyGPs.GPR()\n",
    "        model.setPrior(mean=pyGPs.mean.Const(6.09), kernel=kernel1)\n",
    "        nlz, post = model.getPosterior(x_train, y_train, False)\n",
    "        model.predict(x_test)\n",
    "\n",
    "        oos_y1.append(y_test)\n",
    "        oos_pred1.append(model.ym)        \n",
    "\n",
    "        # Measure this fold's accuracy\n",
    "        nlpd = np.mean(0.5*np.log(2*math.pi*model.ys2) + 0.5*((y_test - model.ym)**2)/model.ys2)\n",
    "        rmse = pyGPs.Validation.valid.RMSE(model.ym, y_test)\n",
    "#         print(\"Fold\", str(i) + \":\", \" NLPD: {}\".format(nlpd), \" RMSE: {}\".format(rmse))\n",
    "        test_scores.append(rmse**2)\n",
    "\n",
    "results['gp'] = test_scores"
   ]
  },
  {
   "cell_type": "code",
   "execution_count": 123,
   "metadata": {},
   "outputs": [
    {
     "name": "stdout",
     "output_type": "stream",
     "text": [
      "Mean GP test score:  2.01765117871\n",
      "Std GP test score:  0.325362200244\n"
     ]
    }
   ],
   "source": [
    "print(\"Mean GP test score: \", np.mean(test_scores))\n",
    "print(\"Std GP test score: \", np.std(test_scores))"
   ]
  },
  {
   "cell_type": "code",
   "execution_count": 211,
   "metadata": {},
   "outputs": [],
   "source": [
    "# SVM\n",
    "\n",
    "from sklearn import svm\n",
    "from sklearn.model_selection import cross_validate\n",
    "\n",
    "test_scores = []\n",
    "train_scores = []\n",
    "for i in range(10):\n",
    "    # Specify that we want to use mean_squared error for the cross-validation\n",
    "    new_df = df.sample(frac=1)\n",
    "    new_X = new_df[final_features]\n",
    "    new_Y = new_df[target]\n",
    "\n",
    "    clf = svm.SVR(C=1.0, cache_size=200, coef0=0.0, degree=3, epsilon=0.1, gamma=0.1,\n",
    "    kernel='rbf', max_iter=-1, shrinking=True, tol=0.001, verbose=False)    \n",
    "    pca = PCA(n_components=2)\n",
    "    pca_data = pca.fit_transform(new_X)\n",
    "    pca_cv_results = cross_validate(clf, pca_data, Y, cv=10, scoring='neg_mean_squared_error')\n",
    "    \n",
    "    test_score = abs(pca_cv_results['test_score'])\n",
    "    train_score = abs(pca_cv_results['train_score'])\n",
    "    \n",
    "    test_scores = np.append(test_score, test_scores)\n",
    "    train_scores = np.append(train_score, train_scores)\n",
    "\n",
    "\n",
    "results['pca_svm'] = test_scores"
   ]
  },
  {
   "cell_type": "code",
   "execution_count": 176,
   "metadata": {},
   "outputs": [
    {
     "name": "stdout",
     "output_type": "stream",
     "text": [
      "Mean PCA SVM test score:  1.54149504353\n",
      "Std PCA SVM test score:  1.28816821662\n"
     ]
    }
   ],
   "source": [
    "print(\"Mean PCA SVM test score: \", np.mean(test_scores))\n",
    "print(\"Std PCA SVM test score: \", np.std(test_scores))"
   ]
  },
  {
   "cell_type": "code",
   "execution_count": 125,
   "metadata": {},
   "outputs": [
    {
     "name": "stdout",
     "output_type": "stream",
     "text": [
      "Mean SVM test score:  0.869468902568\n",
      "Std SVM test score:  0.294031812369\n",
      "Mean SVM train score:  0.404921560307\n",
      "Std SVM train score:  0.0298566327083\n"
     ]
    }
   ],
   "source": [
    "print(\"Mean SVM test score: \", np.mean(test_scores))\n",
    "print(\"Std SVM test score: \", np.std(test_scores))\n",
    "print(\"Mean SVM train score: \", np.mean(train_scores))\n",
    "print(\"Std SVM train score: \", np.std(train_scores))"
   ]
  },
  {
   "cell_type": "code",
   "execution_count": null,
   "metadata": {},
   "outputs": [],
   "source": [
    "from sklearn import svm\n",
    "from sklearn.model_selection import cross_validate\n",
    "\n",
    "test_scores = []\n",
    "train_scores = []\n",
    "for i in range(10):\n",
    "    print(i)\n",
    "    # Specify that we want to use mean_squared error for the cross-validation\n",
    "    new_df = df.sample(frac=1)\n",
    "    new_X = new_df[final_features]\n",
    "    new_Y = new_df[target]\n",
    "\n",
    "    clf = svm.SVR(C=1.0, cache_size=200, coef0=0.0, degree=3, epsilon=0.1, gamma=0.1,\n",
    "    kernel='rbf', max_iter=-1, shrinking=True, tol=0.001, verbose=False)    \n",
    "    cv_results = cross_validate(clf, X, Y, cv=10, scoring='neg_mean_squared_error')\n",
    "    \n",
    "    test_score = abs(cv_results['test_score'])\n",
    "    train_score = abs(cv_results['train_score'])\n",
    "    \n",
    "    test_scores = np.append(test_score, test_scores)\n",
    "    train_scores = np.append(train_score, train_scores)\n",
    "\n",
    "results['svm'] = test_scores"
   ]
  },
  {
   "cell_type": "code",
   "execution_count": 207,
   "metadata": {},
   "outputs": [
    {
     "data": {
      "text/plain": [
       "Text(0,0.5,'Mean Squared Error')"
      ]
     },
     "execution_count": 207,
     "metadata": {},
     "output_type": "execute_result"
    },
    {
     "data": {
      "image/png": "[encoded data removed]",
      "text/plain": [
       "<matplotlib.figure.Figure at 0x130832d30>"
      ]
     },
     "metadata": {},
     "output_type": "display_data"
    }
   ],
   "source": [
    "plt.figure()\n",
    "boxplot = results.boxplot()\n",
    "plt.title(\"MSE Comparison of Different Models\")\n",
    "plt.xlabel(\"Models\")\n",
    "plt.ylabel(\"Mean Squared Error\")"
   ]
  },
  {
   "cell_type": "code",
   "execution_count": 212,
   "metadata": {},
   "outputs": [
    {
     "data": {
      "text/plain": [
       "array([[<matplotlib.axes._subplots.AxesSubplot object at 0x130cb4d30>,\n",
       "        <matplotlib.axes._subplots.AxesSubplot object at 0x12b566cc0>],\n",
       "       [<matplotlib.axes._subplots.AxesSubplot object at 0x12b5a29b0>,\n",
       "        <matplotlib.axes._subplots.AxesSubplot object at 0x12b5daa20>],\n",
       "       [<matplotlib.axes._subplots.AxesSubplot object at 0x12c5ecb00>,\n",
       "        <matplotlib.axes._subplots.AxesSubplot object at 0x12c5ecb38>]], dtype=object)"
      ]
     },
     "execution_count": 212,
     "metadata": {},
     "output_type": "execute_result"
    },
    {
     "data": {
      "image/png": "[encoded data removed]",
      "text/plain": [
       "<matplotlib.figure.Figure at 0x12b49ee10>"
      ]
     },
     "metadata": {},
     "output_type": "display_data"
    }
   ],
   "source": [
    "results.hist()"
   ]
  },
  {
   "cell_type": "code",
   "execution_count": 208,
   "metadata": {},
   "outputs": [
    {
     "data": {
      "text/html": [
       "<div>\n",
       "<style scoped>\n",
       "    .dataframe tbody tr th:only-of-type {\n",
       "        vertical-align: middle;\n",
       "    }\n",
       "\n",
       "    .dataframe tbody tr th {\n",
       "        vertical-align: top;\n",
       "    }\n",
       "\n",
       "    .dataframe thead th {\n",
       "        text-align: right;\n",
       "    }\n",
       "</style>\n",
       "<table border=\"1\" class=\"dataframe\">\n",
       "  <thead>\n",
       "    <tr style=\"text-align: right;\">\n",
       "      <th></th>\n",
       "      <th>gp</th>\n",
       "      <th>svm</th>\n",
       "      <th>lin</th>\n",
       "      <th>pca_svm</th>\n",
       "      <th>pca_lin</th>\n",
       "      <th>dt</th>\n",
       "    </tr>\n",
       "  </thead>\n",
       "  <tbody>\n",
       "    <tr>\n",
       "      <th>count</th>\n",
       "      <td>100.000000</td>\n",
       "      <td>100.000000</td>\n",
       "      <td>100.000000</td>\n",
       "      <td>100.000000</td>\n",
       "      <td>100.000000</td>\n",
       "      <td>100.000000</td>\n",
       "    </tr>\n",
       "    <tr>\n",
       "      <th>mean</th>\n",
       "      <td>2.017651</td>\n",
       "      <td>0.869469</td>\n",
       "      <td>1.239129</td>\n",
       "      <td>1.541495</td>\n",
       "      <td>1.438918</td>\n",
       "      <td>1.246030</td>\n",
       "    </tr>\n",
       "    <tr>\n",
       "      <th>std</th>\n",
       "      <td>0.327001</td>\n",
       "      <td>0.295513</td>\n",
       "      <td>1.177144</td>\n",
       "      <td>1.294658</td>\n",
       "      <td>1.265256</td>\n",
       "      <td>0.415646</td>\n",
       "    </tr>\n",
       "    <tr>\n",
       "      <th>min</th>\n",
       "      <td>1.183683</td>\n",
       "      <td>0.597884</td>\n",
       "      <td>0.437462</td>\n",
       "      <td>0.717294</td>\n",
       "      <td>0.620877</td>\n",
       "      <td>0.799459</td>\n",
       "    </tr>\n",
       "    <tr>\n",
       "      <th>25%</th>\n",
       "      <td>1.770453</td>\n",
       "      <td>0.678932</td>\n",
       "      <td>0.549132</td>\n",
       "      <td>0.783331</td>\n",
       "      <td>0.709556</td>\n",
       "      <td>0.979354</td>\n",
       "    </tr>\n",
       "    <tr>\n",
       "      <th>50%</th>\n",
       "      <td>2.021073</td>\n",
       "      <td>0.753422</td>\n",
       "      <td>0.682087</td>\n",
       "      <td>0.975039</td>\n",
       "      <td>0.896420</td>\n",
       "      <td>1.084209</td>\n",
       "    </tr>\n",
       "    <tr>\n",
       "      <th>75%</th>\n",
       "      <td>2.226772</td>\n",
       "      <td>0.929300</td>\n",
       "      <td>1.114039</td>\n",
       "      <td>1.278159</td>\n",
       "      <td>1.212082</td>\n",
       "      <td>1.424729</td>\n",
       "    </tr>\n",
       "    <tr>\n",
       "      <th>max</th>\n",
       "      <td>3.059711</td>\n",
       "      <td>1.587310</td>\n",
       "      <td>4.343920</td>\n",
       "      <td>5.070399</td>\n",
       "      <td>4.745998</td>\n",
       "      <td>2.137667</td>\n",
       "    </tr>\n",
       "  </tbody>\n",
       "</table>\n",
       "</div>"
      ],
      "text/plain": [
       "               gp         svm         lin     pca_svm     pca_lin          dt\n",
       "count  100.000000  100.000000  100.000000  100.000000  100.000000  100.000000\n",
       "mean     2.017651    0.869469    1.239129    1.541495    1.438918    1.246030\n",
       "std      0.327001    0.295513    1.177144    1.294658    1.265256    0.415646\n",
       "min      1.183683    0.597884    0.437462    0.717294    0.620877    0.799459\n",
       "25%      1.770453    0.678932    0.549132    0.783331    0.709556    0.979354\n",
       "50%      2.021073    0.753422    0.682087    0.975039    0.896420    1.084209\n",
       "75%      2.226772    0.929300    1.114039    1.278159    1.212082    1.424729\n",
       "max      3.059711    1.587310    4.343920    5.070399    4.745998    2.137667"
      ]
     },
     "execution_count": 208,
     "metadata": {},
     "output_type": "execute_result"
    }
   ],
   "source": [
    "results.describe()"
   ]
  },
  {
   "cell_type": "code",
   "execution_count": 210,
   "metadata": {},
   "outputs": [
    {
     "name": "stdout",
     "output_type": "stream",
     "text": [
      "pvalue of SVM vs LR: 0.00289690006472\n",
      "pvalue of SVM vs PCA LR: 2.69496327436e-05\n",
      "pvalue of SVM vs PCA SVM: 1.70185045279e-06\n",
      "pvalue of SVM vs GP: 1.41447072056e-65\n",
      "pvalue of SVM vs DT: 5.63422099612e-12\n"
     ]
    }
   ],
   "source": [
    "from scipy.stats import ttest_ind, f_oneway\n",
    "\n",
    "value, pvalue = ttest_ind(results['svm'], results['lin'], equal_var=False)\n",
    "print(\"pvalue of SVM vs LR:\", pvalue)\n",
    "value, pvalue = ttest_ind(results['svm'], results['pca_lin'], equal_var=False)\n",
    "print(\"pvalue of SVM vs PCA LR:\", pvalue)\n",
    "value, pvalue = ttest_ind(results['svm'], results['pca_svm'], equal_var=False)\n",
    "print(\"pvalue of SVM vs PCA SVM:\", pvalue)\n",
    "value, pvalue = ttest_ind(results['svm'], results['gp'], equal_var=False)\n",
    "print(\"pvalue of SVM vs GP:\", pvalue)\n",
    "value, pvalue = ttest_ind(results['svm'], results['dt'], equal_var=False)\n",
    "print(\"pvalue of SVM vs DT:\", pvalue)"
   ]
  }
 ],
 "metadata": {
  "kernelspec": {
   "display_name": "Python 3",
   "language": "python",
   "name": "python3"
  },
  "language_info": {
   "codemirror_mode": {
    "name": "ipython",
    "version": 3
   },
   "file_extension": ".py",
   "mimetype": "text/x-python",
   "name": "python",
   "nbconvert_exporter": "python",
   "pygments_lexer": "ipython3",
   "version": "3.6.3"
  }
 },
 "nbformat": 4,
 "nbformat_minor": 2
}
